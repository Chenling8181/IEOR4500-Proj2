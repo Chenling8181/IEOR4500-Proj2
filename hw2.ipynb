{
 "cells": [
  {
   "cell_type": "markdown",
   "metadata": {},
   "source": [
    "# <span style='color:red'>Project 2.  Due October 23</span>"
   ]
  },
  {
   "cell_type": "code",
   "execution_count": 1,
   "metadata": {
    "scrolled": true
   },
   "outputs": [
    {
     "name": "stderr",
     "output_type": "stream",
     "text": [
      "/var/folders/b4/jh08kpys74l03tzk4ffbltkh0000gn/T/ipykernel_80010/1189900070.py:1: DeprecationWarning: Importing display from IPython.core.display is deprecated since IPython 7.14, please import from IPython display\n",
      "  from IPython.core.display import display, HTML\n"
     ]
    },
    {
     "data": {
      "text/html": [
       "<style>.container { width: 90% !important; }</style>"
      ],
      "text/plain": [
       "<IPython.core.display.HTML object>"
      ]
     },
     "metadata": {},
     "output_type": "display_data"
    }
   ],
   "source": [
    "from IPython.core.display import display, HTML\n",
    "display(HTML(\"<style>.container { width: 90% !important; }</style>\"))"
   ]
  },
  {
   "cell_type": "markdown",
   "metadata": {},
   "source": [
    "### In this project we develop a first-order algorithm to construct a portfolio using intraday data."
   ]
  },
  {
   "cell_type": "code",
   "execution_count": 2,
   "metadata": {},
   "outputs": [],
   "source": [
    "import csv\n",
    "import sys\n",
    "import scipy.io\n",
    "import numpy as np\n",
    "import math\n",
    "import matplotlib.pyplot as plt"
   ]
  },
  {
   "cell_type": "markdown",
   "metadata": {},
   "source": [
    "##### We will have data involving $n$ assets, and use the first $T$ days of the data to compute the portfolio.\n",
    "##### The computation will produce a weight $x_i$ for each asset $i = 1,...,n$, which could be long or short.\n",
    "##### We assume that on each day, a position is taken at the open, and closed at noon.  So we define:\n",
    "$$ p^o_{j,t} = \\ \\text{price of asset $j$ on day $t$ at the open}$$\n",
    "$$ p^1_{j,t} = \\ \\text{price of asset $j$ on day $t$ at noon}$$\n",
    "$$ r_{j,t} =  \\ \\frac{p^1_{j,t} - p^o_{j,t}}{p^o_{j,t}} = \\ \\text{return earned by asset $j$ on day $t$.}$$\n",
    "$$ \\bar r_j = \\ \\frac{1}{T} \\sum_{t = 1}^T r_{j,t} = \\ \\text{average return earned by asset $j$.}$$"
   ]
  },
  {
   "cell_type": "markdown",
   "metadata": {},
   "source": [
    "#### The optimization problem to solve depends on two parameters: $\\theta \\ge 0$ and $\\pi > 0 0$.\n",
    "####\n",
    "$$ \\text{minimize} \\ \\left(-\\sum_{j = 1}^n \\bar r_j x_j\\right) \\ + \\ \\theta \\left( \\frac{1}{T} \\sum_{t = 1}^{T}\\left[\\sum_{j = 1}^n (r_{j,t} -  \\bar r_j)x_j\\right]^\\pi\\right)^{1/\\pi}$$\n",
    "#### \n",
    "#### There are no constraints on the quantities $x_j$.\n",
    "#### The first sum is minus the average return earned by the portfolio.  In the second sum, the quantity inside the square brackets is the excess return earned by the portfolio on day $t$, magnified by the power $\\pi$.  The quantity $\\theta$ is a risk aversion parameter.\n"
   ]
  },
  {
   "cell_type": "markdown",
   "metadata": {},
   "source": [
    "### <span style='color:red'> Task 1. Develop a first-order method to address this computational problem.</span>\n",
    "#### \n",
    "#### Your method should work with values of $T$ at least $100$. Use the data we provide for AMZN, NFLX, TSLA, i.e., $n = 3$. \n",
    "###\n",
    "#### Make sure your code works with $\\pi = 0.5, 2, 4, 6$, and $\\theta = 0.1, 10, 1000, 10^5, 10^6$."
   ]
  },
  {
   "cell_type": "markdown",
   "metadata": {},
   "source": [
    "#### Data Preprocessing:"
   ]
  },
  {
   "cell_type": "code",
   "execution_count": 229,
   "metadata": {},
   "outputs": [],
   "source": [
    "import pandas as pd\n",
    "# construct interval data\n",
    "from datetime import datetime, time\n",
    "from datetime import date\n",
    "import warnings\n",
    "\n",
    "# Suppress the warning\n",
    "warnings.filterwarnings(\"ignore\")\n",
    "\n",
    "df_TSLA = pd.read_csv('TSLA.csv', skiprows = 3)\n",
    "df_TSLA = df_TSLA.loc[:, ['Dates', 'Close']].dropna()\n",
    "df_TSLA['Dates'] = pd.to_datetime(df_TSLA['Dates'])\n",
    "start = datetime.strptime('09:30:00', '%H:%M:%S').time()\n",
    "noon = datetime.strptime('12:00:00', '%H:%M:%S').time()\n",
    "df_TSLA['Date']=df_TSLA['Dates'].dt.date\n",
    "df_TSLA = df_TSLA[(df_TSLA['Dates'].dt.time==noon) | (df_TSLA['Dates'].dt.time==start)]\n",
    "\n",
    "\n",
    "\n",
    "df_AMZN = pd.read_csv('AMZN.csv', skiprows = 3)\n",
    "#missing value backfill\n",
    "df_AMZN['Dates'][0]='1/4/21 9:30'\n",
    "df_AMZN = df_AMZN.loc[:, ['Dates', 'Close']].dropna()\n",
    "df_AMZN['Dates'] = pd.to_datetime(df_AMZN['Dates'])\n",
    "start = datetime.strptime('09:30:00', '%H:%M:%S').time()\n",
    "noon = datetime.strptime('12:00:00', '%H:%M:%S').time()\n",
    "noon_correction = datetime.strptime('12:01:00', '%H:%M:%S').time()\n",
    "df_AMZN['Date']=df_AMZN['Dates'].dt.date\n",
    "df_AMZN = df_AMZN[(df_AMZN['Dates'].dt.time==noon) | (df_AMZN['Dates'].dt.time==start) | ((df_AMZN['Dates'].dt.time==noon_correction) & (df_AMZN['Date'] == date(2021, 4, 20)) )|((df_AMZN['Dates'].dt.time==noon_correction) & (df_AMZN['Date'] == date(2021, 6, 14)) )]\n",
    "\n",
    "\n",
    "\n",
    "df_NFLX = pd.read_csv('NFLX.csv', skiprows = 3)\n",
    "#missing value backfill\n",
    "df_NFLX['Dates'][0]='2/1/21 9:30'\n",
    "df_NFLX = df_NFLX.loc[:, ['Dates', 'Close']].dropna()\n",
    "df_NFLX['Dates'] = pd.to_datetime(df_NFLX['Dates'])\n",
    "start = datetime.strptime('09:30:00', '%H:%M:%S').time()\n",
    "noon = datetime.strptime('12:00:00', '%H:%M:%S').time()\n",
    "df_NFLX['Date']=df_NFLX['Dates'].dt.date\n",
    "df_NFLX = df_NFLX[(df_NFLX['Dates'].dt.time==noon) | (df_NFLX['Dates'].dt.time==start)]\n",
    "\n",
    "\n",
    "mask1 = df_TSLA['Date'].isin(df_AMZN['Date'])\n",
    "mask2 = df_TSLA['Date'].isin(df_NFLX['Date'])\n",
    "intersection_dates = df_TSLA['Date'][mask1&mask2]\n",
    "\n",
    "AMZN = np.array(df_AMZN[df_AMZN['Date'].isin(intersection_dates)].groupby('Date')['Close'].diff().dropna())[:100]\n",
    "NFLX = np.array(df_NFLX[df_NFLX['Date'].isin(intersection_dates)].groupby('Date')['Close'].diff().dropna())[:100]\n",
    "TSLA = np.array(df_TSLA[df_TSLA['Date'].isin(intersection_dates)].groupby('Date')['Close'].diff().dropna())[:100]\n"
   ]
  },
  {
   "cell_type": "code",
   "execution_count": 235,
   "metadata": {},
   "outputs": [],
   "source": [
    "# Define your data, parameters, and objective function here\n",
    "np.random.seed(42)\n",
    "# Example usage:\n",
    "n = 3  # Number of assets\n",
    "T = 100  # Number of days\n",
    "x_j = np.random.rand(n) # Initial portfolio weights.\n",
    "#r_jt = np.random.rand(T, n)  # Returns earned by each asset on each day (randomly generated)\n",
    "r_jt = np.vstack((AMZN,NFLX,TSLA)).T\n",
    "bar_r_j = np.mean(r_jt, axis=0)  # Average returns for each asset"
   ]
  },
  {
   "cell_type": "markdown",
   "metadata": {},
   "source": [
    "#### Helper Functions to Compute Objective Function and Gradient:"
   ]
  },
  {
   "cell_type": "code",
   "execution_count": null,
   "metadata": {},
   "outputs": [],
   "source": [
    "# Helper Functions\n",
    "\n",
    "def compute_objective(x_j, r_jt, bar_r_j, pi, theta):\n",
    "    return -np.sum(bar_r_j * x_j) + theta * (np.sum((np.dot(r_jt - bar_r_j, x_j) ** pi)) ** (1/pi))\n",
    "\n",
    "def compute_gradient(x_j, r_jt, bar_r_j, pi, theta):\n",
    "    n = len(x_j)\n",
    "    T = len(r_jt)\n",
    "    \n",
    "    # Initialize gradient vector\n",
    "    gradient = np.zeros(n)\n",
    "    \n",
    "    gradient_first_term = -bar_r_j\n",
    "    \n",
    "    # Compute the excess return\n",
    "    excess_returns = np.sum((r_jt - bar_r_j) * x_j, axis=1) ** pi\n",
    "\n",
    "    gradient_second_term = np.mean(excess_returns) ** (1/pi - 1) * np.mean([excess_returns[t] * (r_jt[t] - bar_r_j) for t in range(T)], axis=0)\n",
    "    \n",
    "    # Combine both terms to get the gradient\n",
    "    gradient = gradient_first_term + theta * gradient_second_term\n",
    "    \n",
    "    return gradient"
   ]
  },
  {
   "cell_type": "markdown",
   "metadata": {},
   "source": [
    "#### First Order Method:"
   ]
  },
  {
   "cell_type": "code",
   "execution_count": 241,
   "metadata": {},
   "outputs": [
    {
     "name": "stdout",
     "output_type": "stream",
     "text": [
      "interation: 0\n",
      "gradient norm: 28.41095574753845\n",
      "objective:  24.577138214912456\n",
      "interation: 1000\n",
      "gradient norm: 28.410955747538434\n",
      "objective:  24.577138214912456\n",
      "interation: 2000\n",
      "gradient norm: 28.410955747538434\n",
      "objective:  24.577138214912456\n",
      "interation: 3000\n",
      "gradient norm: 28.410955747538434\n",
      "objective:  24.577138214912456\n",
      "interation: 4000\n",
      "gradient norm: 28.410955747538434\n",
      "objective:  24.577138214912456\n",
      "interation: 5000\n",
      "gradient norm: 28.410955747538434\n",
      "objective:  24.577138214912456\n"
     ]
    },
    {
     "ename": "KeyboardInterrupt",
     "evalue": "",
     "output_type": "error",
     "traceback": [
      "\u001b[0;31m---------------------------------------------------------------------------\u001b[0m",
      "\u001b[0;31mKeyboardInterrupt\u001b[0m                         Traceback (most recent call last)",
      "\u001b[1;32m/Users/leohu/Desktop/Fall23/ProgrammingforFE/Projects/Project2/hw2.ipynb Cell 14\u001b[0m line \u001b[0;36m<cell line: 17>\u001b[0;34m()\u001b[0m\n\u001b[1;32m     <a href='vscode-notebook-cell:/Users/leohu/Desktop/Fall23/ProgrammingforFE/Projects/Project2/hw2.ipynb#X12sZmlsZQ%3D%3D?line=21'>22</a>\u001b[0m \u001b[39m# Backtracking Line Search\u001b[39;00m\n\u001b[1;32m     <a href='vscode-notebook-cell:/Users/leohu/Desktop/Fall23/ProgrammingforFE/Projects/Project2/hw2.ipynb#X12sZmlsZQ%3D%3D?line=22'>23</a>\u001b[0m t \u001b[39m=\u001b[39m \u001b[39m1.0\u001b[39m\n\u001b[0;32m---> <a href='vscode-notebook-cell:/Users/leohu/Desktop/Fall23/ProgrammingforFE/Projects/Project2/hw2.ipynb#X12sZmlsZQ%3D%3D?line=23'>24</a>\u001b[0m \u001b[39mwhile\u001b[39;00m compute_objective(x_j \u001b[39m-\u001b[39m t \u001b[39m*\u001b[39m gradient, r_jt, bar_r_j, pi, theta) \u001b[39m>\u001b[39m compute_objective(x_j, r_jt, bar_r_j, pi, theta) \u001b[39m-\u001b[39m alpha \u001b[39m*\u001b[39m t \u001b[39m*\u001b[39m np\u001b[39m.\u001b[39mlinalg\u001b[39m.\u001b[39mnorm(gradient) \u001b[39m*\u001b[39m\u001b[39m*\u001b[39m \u001b[39m2\u001b[39m:\n\u001b[1;32m     <a href='vscode-notebook-cell:/Users/leohu/Desktop/Fall23/ProgrammingforFE/Projects/Project2/hw2.ipynb#X12sZmlsZQ%3D%3D?line=24'>25</a>\u001b[0m     t \u001b[39m*\u001b[39m\u001b[39m=\u001b[39m beta\n\u001b[1;32m     <a href='vscode-notebook-cell:/Users/leohu/Desktop/Fall23/ProgrammingforFE/Projects/Project2/hw2.ipynb#X12sZmlsZQ%3D%3D?line=26'>27</a>\u001b[0m \u001b[39m# Update portfolio weights\u001b[39;00m\n",
      "\u001b[1;32m/Users/leohu/Desktop/Fall23/ProgrammingforFE/Projects/Project2/hw2.ipynb Cell 14\u001b[0m line \u001b[0;36mcompute_objective\u001b[0;34m(x_j, r_jt, bar_r_j, pi, theta)\u001b[0m\n\u001b[1;32m      <a href='vscode-notebook-cell:/Users/leohu/Desktop/Fall23/ProgrammingforFE/Projects/Project2/hw2.ipynb#X12sZmlsZQ%3D%3D?line=0'>1</a>\u001b[0m \u001b[39mdef\u001b[39;00m \u001b[39mcompute_objective\u001b[39m(x_j, r_jt, bar_r_j, pi, theta):\n\u001b[0;32m----> <a href='vscode-notebook-cell:/Users/leohu/Desktop/Fall23/ProgrammingforFE/Projects/Project2/hw2.ipynb#X12sZmlsZQ%3D%3D?line=1'>2</a>\u001b[0m     \u001b[39mreturn\u001b[39;00m \u001b[39m-\u001b[39mnp\u001b[39m.\u001b[39msum(bar_r_j \u001b[39m*\u001b[39m x_j) \u001b[39m+\u001b[39m theta \u001b[39m*\u001b[39m (np\u001b[39m.\u001b[39;49msum((np\u001b[39m.\u001b[39;49mdot(r_jt \u001b[39m-\u001b[39;49m bar_r_j, x_j) \u001b[39m*\u001b[39;49m\u001b[39m*\u001b[39;49m pi)) \u001b[39m*\u001b[39m\u001b[39m*\u001b[39m (\u001b[39m1\u001b[39m\u001b[39m/\u001b[39mpi))\n",
      "\u001b[0;31mKeyboardInterrupt\u001b[0m: "
     ]
    }
   ],
   "source": [
    "import numpy as np\n",
    "##################################################\n",
    "pi = 2  # Example value for pi\n",
    "theta = 0.1  # Example value for theta\n",
    "##################################################\n",
    "\n",
    "# Gradient Descent hyperparameters\n",
    "max_iterations = 10000\n",
    "tolerance = 1e-6\n",
    "\n",
    "\n",
    "# Gradient Descent optimization with Backtracking Line Search\n",
    "learning_rate = 1.0  # Initial learning rate (you can adjust this)\n",
    "alpha = 0.1  # Backtracking parameter (you can adjust this)\n",
    "beta = 0.95  # Backtracking parameter (you can adjust this)\n",
    "\n",
    "for iteration in range(max_iterations):\n",
    "    if iteration%1000 == 0:\n",
    "        print('interation:', iteration)\n",
    "    gradient = compute_gradient(x_j, r_jt, bar_r_j, pi, theta)\n",
    "    \n",
    "    # Backtracking Line Search\n",
    "    t = 1.0\n",
    "    while compute_objective(x_j - t * gradient, r_jt, bar_r_j, pi, theta) > compute_objective(x_j, r_jt, bar_r_j, pi, theta) - alpha * t * np.linalg.norm(gradient) ** 2:\n",
    "        t *= beta\n",
    "    \n",
    "    # Update portfolio weights\n",
    "    x_j -= t * gradient\n",
    "\n",
    "    if iteration%1000 == 0:\n",
    "        print('gradient norm:', np.linalg.norm(gradient))\n",
    "        print('objective: ', compute_objective(x_j, r_jt, bar_r_j, pi, theta))\n",
    "    \n",
    "    # Check for convergence\n",
    "    if np.linalg.norm(gradient) < tolerance:\n",
    "        break\n",
    "\n",
    "# Final portfolio allocation\n",
    "final_portfolio_weights = x_j\n"
   ]
  },
  {
   "cell_type": "markdown",
   "metadata": {},
   "source": [
    "### <span style='color:red'>Task 2: Benchmark your portfolio on the remaining days</span>\n",
    "#### On each of the remaining days, we proceed as follows.  Denote by $x^*$ your portfolio. At the market open we invest $10^9 x^*_j$ on each asset $j$, and we close the position (by) noon.  You need to use the asset's price to compute the number of shares that you invest in, whether long or short. So the total you invest equals $$ \\sum_{j = 1}^n 10^9 |x^*_j|.$$\n",
    "#### Report the average return earned by your portfolio."
   ]
  }
 ],
 "metadata": {
  "kernelspec": {
   "display_name": "Python 3 (ipykernel)",
   "language": "python",
   "name": "python3"
  },
  "language_info": {
   "codemirror_mode": {
    "name": "ipython",
    "version": 3
   },
   "file_extension": ".py",
   "mimetype": "text/x-python",
   "name": "python",
   "nbconvert_exporter": "python",
   "pygments_lexer": "ipython3",
   "version": "3.9.7"
  }
 },
 "nbformat": 4,
 "nbformat_minor": 4
}
